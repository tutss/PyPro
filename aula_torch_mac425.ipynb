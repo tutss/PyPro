{
  "nbformat": 4,
  "nbformat_minor": 0,
  "metadata": {
    "colab": {
      "name": "aula_torch_mac425.ipynb",
      "version": "0.3.2",
      "provenance": [],
      "collapsed_sections": []
    },
    "kernelspec": {
      "name": "python3",
      "display_name": "Python 3"
    },
    "accelerator": "GPU"
  },
  "cells": [
    {
      "cell_type": "code",
      "metadata": {
        "id": "VdVftMrWamEH",
        "colab_type": "code",
        "colab": {}
      },
      "source": [
        "import torch"
      ],
      "execution_count": 0,
      "outputs": []
    },
    {
      "cell_type": "code",
      "metadata": {
        "id": "pSrIbcF3a9kU",
        "colab_type": "code",
        "colab": {
          "base_uri": "https://localhost:8080/",
          "height": 34
        },
        "outputId": "e1bf02e9-ac8b-4516-dab0-f0c15db5186d"
      },
      "source": [
        "print(torch.cuda.torch.cuda.is_available())"
      ],
      "execution_count": 2,
      "outputs": [
        {
          "output_type": "stream",
          "text": [
            "True\n"
          ],
          "name": "stdout"
        }
      ]
    },
    {
      "cell_type": "code",
      "metadata": {
        "id": "Adg6rQrabql6",
        "colab_type": "code",
        "colab": {
          "base_uri": "https://localhost:8080/",
          "height": 104
        },
        "outputId": "26c4ba51-3c4d-4749-ca9c-3f1c11844ec2"
      },
      "source": [
        "torch.rand(5,2)"
      ],
      "execution_count": 3,
      "outputs": [
        {
          "output_type": "execute_result",
          "data": {
            "text/plain": [
              "tensor([[0.0790, 0.2342],\n",
              "        [0.3671, 0.2059],\n",
              "        [0.3315, 0.1161],\n",
              "        [0.1127, 0.2137],\n",
              "        [0.6229, 0.9178]])"
            ]
          },
          "metadata": {
            "tags": []
          },
          "execution_count": 3
        }
      ]
    },
    {
      "cell_type": "code",
      "metadata": {
        "id": "b156FSwJcQHa",
        "colab_type": "code",
        "colab": {
          "base_uri": "https://localhost:8080/",
          "height": 104
        },
        "outputId": "0b69e9fb-5a08-4ae5-af9b-4c0f11386d3d"
      },
      "source": [
        "torch.rand(5, 3)\n"
      ],
      "execution_count": 4,
      "outputs": [
        {
          "output_type": "execute_result",
          "data": {
            "text/plain": [
              "tensor([[0.7061, 0.5665, 0.6130],\n",
              "        [0.6824, 0.3539, 0.3668],\n",
              "        [0.3889, 0.1290, 0.3498],\n",
              "        [0.7504, 0.5181, 0.6194],\n",
              "        [0.2255, 0.9204, 0.1359]])"
            ]
          },
          "metadata": {
            "tags": []
          },
          "execution_count": 4
        }
      ]
    },
    {
      "cell_type": "code",
      "metadata": {
        "id": "QIcZXr8bcTQG",
        "colab_type": "code",
        "colab": {
          "base_uri": "https://localhost:8080/",
          "height": 34
        },
        "outputId": "e9458380-0d68-4664-d549-dcba8d2af086"
      },
      "source": [
        "torch.tensor([5.5, 3])"
      ],
      "execution_count": 5,
      "outputs": [
        {
          "output_type": "execute_result",
          "data": {
            "text/plain": [
              "tensor([5.5000, 3.0000])"
            ]
          },
          "metadata": {
            "tags": []
          },
          "execution_count": 5
        }
      ]
    },
    {
      "cell_type": "code",
      "metadata": {
        "id": "iamEQxxRcaFV",
        "colab_type": "code",
        "colab": {}
      },
      "source": [
        "import numpy as np"
      ],
      "execution_count": 0,
      "outputs": []
    },
    {
      "cell_type": "code",
      "metadata": {
        "id": "Dm9dX_Cgceu1",
        "colab_type": "code",
        "colab": {
          "base_uri": "https://localhost:8080/",
          "height": 34
        },
        "outputId": "13eee2bc-31c6-408f-a0eb-d888112f786d"
      },
      "source": [
        "torch.from_numpy(np.arange(10))"
      ],
      "execution_count": 7,
      "outputs": [
        {
          "output_type": "execute_result",
          "data": {
            "text/plain": [
              "tensor([0, 1, 2, 3, 4, 5, 6, 7, 8, 9])"
            ]
          },
          "metadata": {
            "tags": []
          },
          "execution_count": 7
        }
      ]
    },
    {
      "cell_type": "code",
      "metadata": {
        "id": "tqt2CtlBcmr5",
        "colab_type": "code",
        "colab": {}
      },
      "source": [
        "ten = torch.from_numpy(np.arange(10))"
      ],
      "execution_count": 0,
      "outputs": []
    },
    {
      "cell_type": "code",
      "metadata": {
        "id": "G0Kp_1EBc-u6",
        "colab_type": "code",
        "colab": {
          "base_uri": "https://localhost:8080/",
          "height": 34
        },
        "outputId": "64fa78b8-784f-4ac8-95d1-5744da23ff20"
      },
      "source": [
        "ten + ten"
      ],
      "execution_count": 9,
      "outputs": [
        {
          "output_type": "execute_result",
          "data": {
            "text/plain": [
              "tensor([ 0,  2,  4,  6,  8, 10, 12, 14, 16, 18])"
            ]
          },
          "metadata": {
            "tags": []
          },
          "execution_count": 9
        }
      ]
    },
    {
      "cell_type": "code",
      "metadata": {
        "id": "Cr954yAQdAM1",
        "colab_type": "code",
        "colab": {
          "base_uri": "https://localhost:8080/",
          "height": 34
        },
        "outputId": "5dc45aa9-ff03-47af-a7cf-64b7c9be4f1f"
      },
      "source": [
        "ten * ten"
      ],
      "execution_count": 4,
      "outputs": [
        {
          "output_type": "execute_result",
          "data": {
            "text/plain": [
              "tensor([ 0,  1,  4,  9, 16, 25, 36, 49, 64, 81])"
            ]
          },
          "metadata": {
            "tags": []
          },
          "execution_count": 4
        }
      ]
    },
    {
      "cell_type": "code",
      "metadata": {
        "id": "aFFaFMDZdCXc",
        "colab_type": "code",
        "colab": {}
      },
      "source": [
        "import torch.nn as nn\n",
        "from torch.autograd import Variable"
      ],
      "execution_count": 0,
      "outputs": []
    },
    {
      "cell_type": "markdown",
      "metadata": {
        "id": "K2ADIuLJdlrC",
        "colab_type": "text"
      },
      "source": [
        "# Redes Neurais\n",
        "## NN de 1 neurônio"
      ]
    },
    {
      "cell_type": "code",
      "metadata": {
        "id": "sqYYCg33dpuK",
        "colab_type": "code",
        "colab": {}
      },
      "source": [
        "class Net(nn.Module):\n",
        "  \n",
        "  def __init__(self):\n",
        "    # Inicialization of the network\n",
        "    super(Net, self).__init__()\n",
        "    # One linear unit\n",
        "    self.fc1 = nn.Linear(1, 1)\n",
        "    \n",
        "  def forward(self, X):\n",
        "    # Pass it to the layer\n",
        "    return self.fc1(X)\n",
        "  "
      ],
      "execution_count": 0,
      "outputs": []
    },
    {
      "cell_type": "code",
      "metadata": {
        "id": "JdCezyvGer_m",
        "colab_type": "code",
        "colab": {}
      },
      "source": [
        "net = Net()"
      ],
      "execution_count": 0,
      "outputs": []
    },
    {
      "cell_type": "code",
      "metadata": {
        "id": "S79NsXIPfKze",
        "colab_type": "code",
        "colab": {
          "base_uri": "https://localhost:8080/",
          "height": 139
        },
        "outputId": "1d4b50a8-6183-4f5e-d295-c2e03f877a97"
      },
      "source": [
        "print(net)\n",
        "print()\n",
        "print(list(net.parameters()))"
      ],
      "execution_count": 11,
      "outputs": [
        {
          "output_type": "stream",
          "text": [
            "Net(\n",
            "  (fc1): Linear(in_features=1, out_features=1, bias=True)\n",
            ")\n",
            "\n",
            "[Parameter containing:\n",
            "tensor([[0.3462]], requires_grad=True), Parameter containing:\n",
            "tensor([-0.2998], requires_grad=True)]\n"
          ],
          "name": "stdout"
        }
      ]
    },
    {
      "cell_type": "code",
      "metadata": {
        "id": "JmR3KeUrfOdD",
        "colab_type": "code",
        "colab": {
          "base_uri": "https://localhost:8080/",
          "height": 34
        },
        "outputId": "424e098b-4ede-4882-9005-b72d93cff98e"
      },
      "source": [
        "inp = Variable(torch.randn(1,1,1), requires_grad=True)\n",
        "print(inp)"
      ],
      "execution_count": 34,
      "outputs": [
        {
          "output_type": "stream",
          "text": [
            "tensor([[[0.4179]]], requires_grad=True)\n"
          ],
          "name": "stdout"
        }
      ]
    },
    {
      "cell_type": "code",
      "metadata": {
        "id": "zvUQjlULfqkO",
        "colab_type": "code",
        "colab": {
          "base_uri": "https://localhost:8080/",
          "height": 34
        },
        "outputId": "f55af363-512e-4064-92dc-e5a9178c6d3f"
      },
      "source": [
        "out = net(inp)\n",
        "print(out)"
      ],
      "execution_count": 14,
      "outputs": [
        {
          "output_type": "stream",
          "text": [
            "tensor([[[-0.0739]]], grad_fn=<AddBackward0>)\n"
          ],
          "name": "stdout"
        }
      ]
    },
    {
      "cell_type": "code",
      "metadata": {
        "id": "3ZaTUM-BfzkD",
        "colab_type": "code",
        "colab": {
          "base_uri": "https://localhost:8080/",
          "height": 34
        },
        "outputId": "8f721ca6-2faa-4bab-a35d-3e1cb6a6f2c5"
      },
      "source": [
        "# w * x + bias\n",
        "0.3462 * 0.6524 - 0.2998"
      ],
      "execution_count": 17,
      "outputs": [
        {
          "output_type": "execute_result",
          "data": {
            "text/plain": [
              "-0.07393912000000002"
            ]
          },
          "metadata": {
            "tags": []
          },
          "execution_count": 17
        }
      ]
    },
    {
      "cell_type": "code",
      "metadata": {
        "id": "fAIWm3exhLnW",
        "colab_type": "code",
        "colab": {}
      },
      "source": [
        "def loss_function(pred, expected):\n",
        "  return (expected - pred)**2\n",
        "\n",
        "optimizer = torch.optim.SGD(net.parameters(), lr=0.01)"
      ],
      "execution_count": 0,
      "outputs": []
    },
    {
      "cell_type": "code",
      "metadata": {
        "id": "AgA7Rco9gPS8",
        "colab_type": "code",
        "colab": {}
      },
      "source": [
        "data = [(1, 4), (2, 7), (3, 10), (4, 13), (5, 16), (6, 19)]"
      ],
      "execution_count": 0,
      "outputs": []
    },
    {
      "cell_type": "code",
      "metadata": {
        "id": "6qNoC6kZjQR5",
        "colab_type": "code",
        "colab": {
          "base_uri": "https://localhost:8080/",
          "height": 191
        },
        "outputId": "3f70e5b2-435b-4568-886b-ac4aedf47b49"
      },
      "source": [
        "for epoch in range(100):\n",
        "  for i, dat in enumerate(data):\n",
        "    X, Y = iter(dat)\n",
        "    X = Variable(torch.FloatTensor([X]), requires_grad=True)\n",
        "    Y = Variable(torch.FloatTensor([Y]), requires_grad=False)\n",
        "    optimizer.zero_grad()\n",
        "    outs = net(X)\n",
        "    loss = loss_function(outs, Y)\n",
        "    loss.backward()\n",
        "    optimizer.step()\n",
        "    \n",
        "    if i % 10 == 0 and epoch % 10 == 0:\n",
        "      print('Epoch {} | Loss: {}'.format(epoch, loss.data[0]))\n",
        "    "
      ],
      "execution_count": 38,
      "outputs": [
        {
          "output_type": "stream",
          "text": [
            "Epoch 0 | Loss: 25.93330192565918\n",
            "Epoch 10 | Loss: 0.4031047821044922\n",
            "Epoch 20 | Loss: 0.25242292881011963\n",
            "Epoch 30 | Loss: 0.15806618332862854\n",
            "Epoch 40 | Loss: 0.09898065775632858\n",
            "Epoch 50 | Loss: 0.0619812086224556\n",
            "Epoch 60 | Loss: 0.038812484592199326\n",
            "Epoch 70 | Loss: 0.024304289370775223\n",
            "Epoch 80 | Loss: 0.015219198539853096\n",
            "Epoch 90 | Loss: 0.009530224837362766\n"
          ],
          "name": "stdout"
        }
      ]
    },
    {
      "cell_type": "code",
      "metadata": {
        "id": "8I8OeiPikji3",
        "colab_type": "code",
        "colab": {
          "base_uri": "https://localhost:8080/",
          "height": 69
        },
        "outputId": "78653032-5bbe-49af-e812-66b4e9345df0"
      },
      "source": [
        "print(list(net.parameters()))"
      ],
      "execution_count": 21,
      "outputs": [
        {
          "output_type": "stream",
          "text": [
            "[Parameter containing:\n",
            "tensor([[3.0092]], requires_grad=True), Parameter containing:\n",
            "tensor([0.9492], requires_grad=True)]\n"
          ],
          "name": "stdout"
        }
      ]
    },
    {
      "cell_type": "code",
      "metadata": {
        "id": "lC68yhdAkyWM",
        "colab_type": "code",
        "colab": {
          "base_uri": "https://localhost:8080/",
          "height": 34
        },
        "outputId": "dff3bbe6-0927-4c7f-ead9-a388dfe249a2"
      },
      "source": [
        "net.forward(torch.tensor([3.0]))"
      ],
      "execution_count": 39,
      "outputs": [
        {
          "output_type": "execute_result",
          "data": {
            "text/plain": [
              "tensor([9.9570], grad_fn=<AddBackward0>)"
            ]
          },
          "metadata": {
            "tags": []
          },
          "execution_count": 39
        }
      ]
    },
    {
      "cell_type": "markdown",
      "metadata": {
        "id": "nT25p3oRmAmD",
        "colab_type": "text"
      },
      "source": [
        "## Not MNIST"
      ]
    },
    {
      "cell_type": "code",
      "metadata": {
        "id": "PfTXdJD5mCxz",
        "colab_type": "code",
        "colab": {}
      },
      "source": [
        "input_size = 784\n",
        "hidden_1 = 500\n",
        "num_classes = 10\n",
        "\n",
        "num_epochs = 10\n",
        "batch_size = 100\n",
        "learning_rate = 1e-03"
      ],
      "execution_count": 0,
      "outputs": []
    },
    {
      "cell_type": "code",
      "metadata": {
        "id": "YTWBmV1JnOsb",
        "colab_type": "code",
        "colab": {}
      },
      "source": [
        "import torchvision.datasets as dsets\n",
        "import torchvision.transforms as transforms\n",
        "\n",
        "\n",
        "train_dataset = dsets.FashionMNIST(root = './data', train = True, transform = transforms.ToTensor(), download = True)\n",
        "\n",
        "test_dataset = dsets.FashionMNIST(root = './data', train = False, transform = transforms.ToTensor(), download = True)"
      ],
      "execution_count": 0,
      "outputs": []
    },
    {
      "cell_type": "code",
      "metadata": {
        "id": "pT7cwv0Dn2cc",
        "colab_type": "code",
        "colab": {}
      },
      "source": [
        "train_loader = torch.utils.data.DataLoader(dataset=train_dataset, batch_size=batch_size, shuffle=True)\n",
        "test_loader = torch.utils.data.DataLoader(dataset=test_dataset, batch_size=batch_size, shuffle=False)"
      ],
      "execution_count": 0,
      "outputs": []
    },
    {
      "cell_type": "code",
      "metadata": {
        "id": "ZRVWiVguoqwT",
        "colab_type": "code",
        "colab": {}
      },
      "source": [
        "classes = {0: 'T-shirt',\n",
        "           1: 'Trouser',\n",
        "           2: 'Pullover',\n",
        "           3: 'Dress',\n",
        "           4: 'Coat',\n",
        "           5: 'Sandal',\n",
        "           6: 'Shirt',\n",
        "           7: 'Sneaker',\n",
        "           8: 'Bag',\n",
        "           9: 'Ankle Boot'}"
      ],
      "execution_count": 0,
      "outputs": []
    },
    {
      "cell_type": "code",
      "metadata": {
        "id": "BMUAHKM0pKiZ",
        "colab_type": "code",
        "colab": {}
      },
      "source": [
        "class C_Net(nn.Module):\n",
        "  \n",
        "  def __init__(self, input_size, hidden_size, num_classes):\n",
        "    super(C_Net, self).__init__()\n",
        "    self.fc1 = nn.Linear(input_size, hidden_size)\n",
        "    self.relu = nn.ReLU()\n",
        "    self.fc2 = nn.Linear(hidden_size, num_classes)\n",
        "    \n",
        "  def forward(self, X):\n",
        "    return self.fc2(self.relu(self.fc1(X)))"
      ],
      "execution_count": 0,
      "outputs": []
    },
    {
      "cell_type": "code",
      "metadata": {
        "id": "jgZ3Lb0cqeSX",
        "colab_type": "code",
        "colab": {}
      },
      "source": [
        "cnet = C_Net(input_size, hidden_1, num_classes)\n",
        "\n",
        "if torch.cuda.torch.cuda.is_available():\n",
        "  cnet.cuda()"
      ],
      "execution_count": 0,
      "outputs": []
    },
    {
      "cell_type": "code",
      "metadata": {
        "id": "PyVdbtULq1cy",
        "colab_type": "code",
        "colab": {}
      },
      "source": [
        "criterion = nn.CrossEntropyLoss()\n",
        "optimizer = torch.optim.SGD(cnet.parameters(), lr=learning_rate)"
      ],
      "execution_count": 0,
      "outputs": []
    },
    {
      "cell_type": "code",
      "metadata": {
        "id": "tqs5FGpEruiS",
        "colab_type": "code",
        "colab": {
          "base_uri": "https://localhost:8080/",
          "height": 1059
        },
        "outputId": "2615b87e-856d-4218-a4fd-428420364d1f"
      },
      "source": [
        "for epoch in range(num_epochs):\n",
        "  for i, (images, labels) in enumerate(train_loader):\n",
        "    images = Variable(images.view(-1, 28*28))\n",
        "    labels = Variable(labels)\n",
        "    \n",
        "    if torch.cuda.torch.cuda.is_available():\n",
        "      images = images.cuda()\n",
        "      labels = labels.cuda()\n",
        "      \n",
        "    optimizer.zero_grad()\n",
        "    outputs = cnet(images)\n",
        "    loss = criterion(outputs, labels)\n",
        "    loss.backward()\n",
        "    optimizer.step()\n",
        "    \n",
        "    if not i % 100:\n",
        "      print('Epoch [%d/%d], step [%d/%d], loss: %.4f' % (epoch+1, num_epochs, \n",
        "                                                        i + 1, len(train_dataset)//batch_size, loss.item()))"
      ],
      "execution_count": 54,
      "outputs": [
        {
          "output_type": "stream",
          "text": [
            "Epoch [1/10], step [1/600], loss: 2.3208\n",
            "Epoch [1/10], step [101/600], loss: 2.2620\n",
            "Epoch [1/10], step [201/600], loss: 2.1782\n",
            "Epoch [1/10], step [301/600], loss: 2.1293\n",
            "Epoch [1/10], step [401/600], loss: 2.0869\n",
            "Epoch [1/10], step [501/600], loss: 2.0430\n",
            "Epoch [2/10], step [1/600], loss: 1.9371\n",
            "Epoch [2/10], step [101/600], loss: 1.9120\n",
            "Epoch [2/10], step [201/600], loss: 1.8506\n",
            "Epoch [2/10], step [301/600], loss: 1.8467\n",
            "Epoch [2/10], step [401/600], loss: 1.7534\n",
            "Epoch [2/10], step [501/600], loss: 1.7448\n",
            "Epoch [3/10], step [1/600], loss: 1.6825\n",
            "Epoch [3/10], step [101/600], loss: 1.6446\n",
            "Epoch [3/10], step [201/600], loss: 1.4708\n",
            "Epoch [3/10], step [301/600], loss: 1.4870\n",
            "Epoch [3/10], step [401/600], loss: 1.4778\n",
            "Epoch [3/10], step [501/600], loss: 1.4408\n",
            "Epoch [4/10], step [1/600], loss: 1.4407\n",
            "Epoch [4/10], step [101/600], loss: 1.3920\n",
            "Epoch [4/10], step [201/600], loss: 1.2775\n",
            "Epoch [4/10], step [301/600], loss: 1.2815\n",
            "Epoch [4/10], step [401/600], loss: 1.1631\n",
            "Epoch [4/10], step [501/600], loss: 1.2683\n",
            "Epoch [5/10], step [1/600], loss: 1.2373\n",
            "Epoch [5/10], step [101/600], loss: 1.1391\n",
            "Epoch [5/10], step [201/600], loss: 1.2924\n",
            "Epoch [5/10], step [301/600], loss: 1.0644\n",
            "Epoch [5/10], step [401/600], loss: 1.1481\n",
            "Epoch [5/10], step [501/600], loss: 1.1455\n",
            "Epoch [6/10], step [1/600], loss: 1.0973\n",
            "Epoch [6/10], step [101/600], loss: 1.0812\n",
            "Epoch [6/10], step [201/600], loss: 1.0448\n",
            "Epoch [6/10], step [301/600], loss: 0.9648\n",
            "Epoch [6/10], step [401/600], loss: 1.0551\n",
            "Epoch [6/10], step [501/600], loss: 0.8466\n",
            "Epoch [7/10], step [1/600], loss: 1.0160\n",
            "Epoch [7/10], step [101/600], loss: 0.9059\n",
            "Epoch [7/10], step [201/600], loss: 0.8423\n",
            "Epoch [7/10], step [301/600], loss: 0.9952\n",
            "Epoch [7/10], step [401/600], loss: 0.8783\n",
            "Epoch [7/10], step [501/600], loss: 0.8869\n",
            "Epoch [8/10], step [1/600], loss: 0.9247\n",
            "Epoch [8/10], step [101/600], loss: 0.9042\n",
            "Epoch [8/10], step [201/600], loss: 0.9663\n",
            "Epoch [8/10], step [301/600], loss: 0.8092\n",
            "Epoch [8/10], step [401/600], loss: 0.9690\n",
            "Epoch [8/10], step [501/600], loss: 0.9270\n",
            "Epoch [9/10], step [1/600], loss: 0.8193\n",
            "Epoch [9/10], step [101/600], loss: 0.9522\n",
            "Epoch [9/10], step [201/600], loss: 0.8127\n",
            "Epoch [9/10], step [301/600], loss: 0.8388\n",
            "Epoch [9/10], step [401/600], loss: 0.7934\n",
            "Epoch [9/10], step [501/600], loss: 0.7866\n",
            "Epoch [10/10], step [1/600], loss: 0.8805\n",
            "Epoch [10/10], step [101/600], loss: 0.9658\n",
            "Epoch [10/10], step [201/600], loss: 0.8810\n",
            "Epoch [10/10], step [301/600], loss: 0.8828\n",
            "Epoch [10/10], step [401/600], loss: 0.8783\n",
            "Epoch [10/10], step [501/600], loss: 0.9221\n"
          ],
          "name": "stdout"
        }
      ]
    },
    {
      "cell_type": "code",
      "metadata": {
        "id": "zgEc7cbOs19H",
        "colab_type": "code",
        "colab": {
          "base_uri": "https://localhost:8080/",
          "height": 34
        },
        "outputId": "61079759-ca1e-4aba-e001-f94b7ce005a1"
      },
      "source": [
        "correct = 0\n",
        "total = 0\n",
        "for images, labels in test_loader:\n",
        "  images = Variable(images.view(-1, 28*28))\n",
        "  \n",
        "  if torch.cuda.torch.cuda.is_available():\n",
        "    images = images.cuda()\n",
        "    labels = labels.cuda()\n",
        "    \n",
        "  outputs = cnet(images)\n",
        "  _, predicted = torch.max(outputs.data, 1)\n",
        "  total += labels.size(0)\n",
        "  correct += (predicted == labels).sum()\n",
        "  \n",
        "print('Accuracy: ', 100 * correct/total)"
      ],
      "execution_count": 57,
      "outputs": [
        {
          "output_type": "stream",
          "text": [
            "Accuracy:  tensor(70, device='cuda:0')\n"
          ],
          "name": "stdout"
        }
      ]
    },
    {
      "cell_type": "code",
      "metadata": {
        "id": "ny95xsdoujDt",
        "colab_type": "code",
        "colab": {}
      },
      "source": [
        ""
      ],
      "execution_count": 0,
      "outputs": []
    }
  ]
}