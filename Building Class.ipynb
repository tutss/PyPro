{
 "cells": [
  {
   "cell_type": "markdown",
   "metadata": {},
   "source": [
    "## Evento\n",
    "\n",
    "Define uma classe de evento que ocorre no prédio"
   ]
  },
  {
   "cell_type": "code",
   "execution_count": 68,
   "metadata": {},
   "outputs": [],
   "source": [
    "class Event:\n",
    "    def __init__(self, day, month, year, begin, ends):\n",
    "        self.d = day\n",
    "        self.m = month\n",
    "        self.y = year\n",
    "        self.b = begin\n",
    "        self.e = ends\n",
    "        \n",
    "    def has_in_same_day(self, this):\n",
    "        return self.d == this\n",
    "    \n",
    "    def until_which_hour(self):\n",
    "        return self.b"
   ]
  },
  {
   "cell_type": "markdown",
   "metadata": {},
   "source": [
    "## Apartamento\n",
    "\n",
    "Classe que define a lógica de um apartamento. Um apto possui um responsável, número de residentes, e uma vaga na garagem"
   ]
  },
  {
   "cell_type": "code",
   "execution_count": 64,
   "metadata": {},
   "outputs": [],
   "source": [
    "class Apartment:\n",
    "    ledger = {}\n",
    "    \n",
    "#     Inicia um apartamento com n residentes, uma vaga da garagem, e o nome do responsável\n",
    "    def __init__(self, n_residents, n_spot, n_resp):\n",
    "        self.n = n_residents\n",
    "        self.spot = n_spot\n",
    "        self.respons = n_resp\n",
    "        \n",
    "    def add_event    \n",
    "#     Retorna o número de residentes\n",
    "    def residents(self):\n",
    "        return self.n\n",
    "    \n",
    "#     Adiciona um residente\n",
    "    def add_resident(self):\n",
    "        self.n += 1\n",
    "    \n",
    "#     Retorna qual é a vaga\n",
    "    def spot(self):\n",
    "        return self.spot\n",
    "    \n",
    "#     Retorna quem é o responsável\n",
    "    def responsable(self):\n",
    "        return self.respons\n",
    "    \n",
    "#     Adiciona um incidente no apartamento\n",
    "    def add_incident(self, incident):\n",
    "        if (not (incident in self.ledger)):\n",
    "            self.ledger[incident] = 1\n",
    "        else:\n",
    "            self.ledger[incident] += 1\n",
    "            \n",
    "#     Retorna os incidentes        \n",
    "    def incidents(self):\n",
    "        print(self.ledger)\n",
    "        \n",
    "#     Quando houve uma mudança\n",
    "    def they_moved(self, new_res, new_responsable):\n",
    "        self.n = new_res\n",
    "        self.respons = new_responsable\n",
    "    "
   ]
  },
  {
   "cell_type": "code",
   "execution_count": 65,
   "metadata": {},
   "outputs": [],
   "source": [
    "bruno = Apartment(4, 43, 'Bruno')"
   ]
  },
  {
   "cell_type": "code",
   "execution_count": 66,
   "metadata": {},
   "outputs": [],
   "source": [
    "bruno.residents()\n",
    "bruno.add_incident('barulho depois das 22h')"
   ]
  },
  {
   "cell_type": "code",
   "execution_count": 42,
   "metadata": {},
   "outputs": [
    {
     "name": "stdout",
     "output_type": "stream",
     "text": [
      "{'barulho depois das 22h': 1}\n"
     ]
    }
   ],
   "source": [
    "bruno.incidents()"
   ]
  },
  {
   "cell_type": "code",
   "execution_count": 43,
   "metadata": {},
   "outputs": [],
   "source": [
    "bruno.add_incident('barulho depois das 22h')"
   ]
  },
  {
   "cell_type": "code",
   "execution_count": 44,
   "metadata": {},
   "outputs": [
    {
     "name": "stdout",
     "output_type": "stream",
     "text": [
      "{'barulho depois das 22h': 2}\n"
     ]
    }
   ],
   "source": [
    "bruno.incidents()"
   ]
  },
  {
   "cell_type": "code",
   "execution_count": 45,
   "metadata": {},
   "outputs": [
    {
     "data": {
      "text/plain": [
       "4"
      ]
     },
     "execution_count": 45,
     "metadata": {},
     "output_type": "execute_result"
    }
   ],
   "source": [
    "bruno.n"
   ]
  },
  {
   "cell_type": "code",
   "execution_count": null,
   "metadata": {},
   "outputs": [],
   "source": []
  }
 ],
 "metadata": {
  "kernelspec": {
   "display_name": "Python 3",
   "language": "python",
   "name": "python3"
  },
  "language_info": {
   "codemirror_mode": {
    "name": "ipython",
    "version": 3
   },
   "file_extension": ".py",
   "mimetype": "text/x-python",
   "name": "python",
   "nbconvert_exporter": "python",
   "pygments_lexer": "ipython3",
   "version": "3.6.4"
  }
 },
 "nbformat": 4,
 "nbformat_minor": 2
}
